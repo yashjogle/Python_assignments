{
 "cells": [
  {
   "cell_type": "code",
   "execution_count": 1,
   "metadata": {},
   "outputs": [
    {
     "name": "stdout",
     "output_type": "stream",
     "text": [
      "Enter Operation you want to perform:\n"
     ]
    },
    {
     "ename": "ValueError",
     "evalue": "could not convert string to float: ''",
     "output_type": "error",
     "traceback": [
      "\u001b[1;31m---------------------------------------------------------------------------\u001b[0m",
      "\u001b[1;31mValueError\u001b[0m                                Traceback (most recent call last)",
      "Cell \u001b[1;32mIn[1], line 8\u001b[0m\n\u001b[0;32m      6\u001b[0m        \u001b[38;5;28mprint\u001b[39m(\u001b[38;5;124m\"\u001b[39m\u001b[38;5;124mExited successfully\u001b[39m\u001b[38;5;124m\"\u001b[39m)\n\u001b[0;32m      7\u001b[0m        \u001b[38;5;28;01mbreak\u001b[39;00m\n\u001b[1;32m----> 8\u001b[0m a\u001b[38;5;241m=\u001b[39m\u001b[38;5;28;43mfloat\u001b[39;49m\u001b[43m(\u001b[49m\u001b[38;5;28;43minput\u001b[39;49m\u001b[43m(\u001b[49m\u001b[38;5;124;43m\"\u001b[39;49m\u001b[38;5;124;43mEnter first number:\u001b[39;49m\u001b[38;5;124;43m\"\u001b[39;49m\u001b[43m)\u001b[49m\u001b[43m)\u001b[49m\n\u001b[0;32m      9\u001b[0m b\u001b[38;5;241m=\u001b[39m\u001b[38;5;28mfloat\u001b[39m(\u001b[38;5;28minput\u001b[39m(\u001b[38;5;124m\"\u001b[39m\u001b[38;5;124mEnter second number:\u001b[39m\u001b[38;5;124m\"\u001b[39m))\n\u001b[0;32m     10\u001b[0m \u001b[38;5;28;01mif\u001b[39;00m operation\u001b[38;5;241m==\u001b[39m\u001b[38;5;124m'\u001b[39m\u001b[38;5;124m+\u001b[39m\u001b[38;5;124m'\u001b[39m:\n",
      "\u001b[1;31mValueError\u001b[0m: could not convert string to float: ''"
     ]
    }
   ],
   "source": [
    "ret=False\n",
    "while ret==False:\n",
    " print(\"Enter Operation you want to perform:\")\n",
    " operation=input(\"+,-,/,*,^,%,//,e\")\n",
    " if operation=='e': \n",
    "        print(\"Exited successfully\")\n",
    "        break\n",
    " a=float(input(\"Enter first number:\"))\n",
    " b=float(input(\"Enter second number:\"))\n",
    " if operation=='+':\n",
    "    result=a+b\n",
    "    print(result)\n",
    " elif operation=='-': \n",
    "    result=a-b\n",
    "    print(result)\n",
    " elif operation=='*':\n",
    "    result=a*b\n",
    "    print(result)\n",
    " elif operation==\"/\":\n",
    "    result=a/b\n",
    "    print(result)\n",
    " elif operation==\"%\":\n",
    "    result=a%b\n",
    "    print(result)\n",
    " elif operation==\"^\":\n",
    "    result=a**b\n",
    "    print(result)\n",
    " elif operation==\"//\":\n",
    "    result=a//b\n",
    "    print(result)\n",
    "else:\n",
    "   print(\"Operations completed\")\n",
    "   \n",
    "\n",
    "\n"
   ]
  },
  {
   "cell_type": "code",
   "execution_count": 2,
   "metadata": {},
   "outputs": [
    {
     "name": "stdout",
     "output_type": "stream",
     "text": [
      "Enter conversion you want to perform\n",
      "Celcius to fahrenheit: 1\n",
      "farhenheit to celcius: 2\n",
      "Exit: 3\n",
      "73.4\n",
      "Enter conversion you want to perform\n",
      "Celcius to fahrenheit: 1\n",
      "farhenheit to celcius: 2\n",
      "Exit: 3\n",
      "0.0\n",
      "Enter conversion you want to perform\n",
      "Celcius to fahrenheit: 1\n",
      "farhenheit to celcius: 2\n",
      "Exit: 3\n",
      "148.88888888888889\n",
      "Enter conversion you want to perform\n",
      "Celcius to fahrenheit: 1\n",
      "farhenheit to celcius: 2\n",
      "Exit: 3\n",
      "Exited Successfully:\n"
     ]
    }
   ],
   "source": [
    "ret =True\n",
    "while ret==True:\n",
    "    print(\"Enter conversion you want to perform\")\n",
    "    print(\"Celcius to fahrenheit: 1\")\n",
    "    print(\"farhenheit to celcius: 2\")\n",
    "    print(\"Exit: 3\")\n",
    "    choice=input(\"Enter your choice:\")\n",
    "    if choice=='3':\n",
    "        print(\"Exited Successfully:\")\n",
    "        break\n",
    "    if choice=='1':\n",
    "        C=float(input(\"Enter Temperature in Celcius\"))\n",
    "      \n",
    "        print(F)\n",
    "    elif choice=='2':\n",
    "     F=float(input(\"Enter Temperature in fahrenheit\"))\n",
    "     C=(F-32)*5/9 \n",
    "       F=(1.8*C)+32 \n",
    "     print(C) "
   ]
  }
 ],
 "metadata": {
  "kernelspec": {
   "display_name": "Python 3",
   "language": "python",
   "name": "python3"
  },
  "language_info": {
   "codemirror_mode": {
    "name": "ipython",
    "version": 3
   },
   "file_extension": ".py",
   "mimetype": "text/x-python",
   "name": "python",
   "nbconvert_exporter": "python",
   "pygments_lexer": "ipython3",
   "version": "3.12.3"
  }
 },
 "nbformat": 4,
 "nbformat_minor": 2
}
